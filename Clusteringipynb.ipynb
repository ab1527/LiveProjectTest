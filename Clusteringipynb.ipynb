{
  "nbformat": 4,
  "nbformat_minor": 0,
  "metadata": {
    "colab": {
      "name": "Clusteringipynb",
      "provenance": [],
      "collapsed_sections": []
    },
    "kernelspec": {
      "name": "python3",
      "display_name": "Python 3"
    }
  },
  "cells": [
    {
      "cell_type": "code",
      "metadata": {
        "id": "zbJHJkni4KOB",
        "colab_type": "code",
        "colab": {
          "base_uri": "https://localhost:8080/",
          "height": 122
        },
        "outputId": "85a77744-0fc1-47cb-c5bf-d3f20ac7afed"
      },
      "source": [
        "from google.colab import drive\n",
        "drive.mount('/content/gdrive')"
      ],
      "execution_count": 3,
      "outputs": [
        {
          "output_type": "stream",
          "text": [
            "Go to this URL in a browser: https://accounts.google.com/o/oauth2/auth?client_id=947318989803-6bn6qk8qdgf4n4g3pfee6491hc0brc4i.apps.googleusercontent.com&redirect_uri=urn%3aietf%3awg%3aoauth%3a2.0%3aoob&response_type=code&scope=email%20https%3a%2f%2fwww.googleapis.com%2fauth%2fdocs.test%20https%3a%2f%2fwww.googleapis.com%2fauth%2fdrive%20https%3a%2f%2fwww.googleapis.com%2fauth%2fdrive.photos.readonly%20https%3a%2f%2fwww.googleapis.com%2fauth%2fpeopleapi.readonly\n",
            "\n",
            "Enter your authorization code:\n",
            "··········\n",
            "Mounted at /content/gdrive\n"
          ],
          "name": "stdout"
        }
      ]
    },
    {
      "cell_type": "code",
      "metadata": {
        "id": "zerSCqDL4YHH",
        "colab_type": "code",
        "colab": {
          "base_uri": "https://localhost:8080/",
          "height": 204
        },
        "outputId": "d62631f6-ef3e-4b8b-ff9b-60418cb53d26"
      },
      "source": [
        "import pandas as pd\n",
        "import numpy as np\n",
        "\n",
        "data = pd.read_csv(\"/content/gdrive/My Drive/Colab Notebooks/processed_headlines_locations.csv\")\n",
        "data.head()"
      ],
      "execution_count": 4,
      "outputs": [
        {
          "output_type": "execute_result",
          "data": {
            "text/html": [
              "<div>\n",
              "<style scoped>\n",
              "    .dataframe tbody tr th:only-of-type {\n",
              "        vertical-align: middle;\n",
              "    }\n",
              "\n",
              "    .dataframe tbody tr th {\n",
              "        vertical-align: top;\n",
              "    }\n",
              "\n",
              "    .dataframe thead th {\n",
              "        text-align: right;\n",
              "    }\n",
              "</style>\n",
              "<table border=\"1\" class=\"dataframe\">\n",
              "  <thead>\n",
              "    <tr style=\"text-align: right;\">\n",
              "      <th></th>\n",
              "      <th>Unnamed: 0</th>\n",
              "      <th>headline</th>\n",
              "      <th>city</th>\n",
              "      <th>accented_city</th>\n",
              "      <th>latitude</th>\n",
              "      <th>longitude</th>\n",
              "      <th>countrycode</th>\n",
              "      <th>pop</th>\n",
              "    </tr>\n",
              "  </thead>\n",
              "  <tbody>\n",
              "    <tr>\n",
              "      <th>0</th>\n",
              "      <td>0</td>\n",
              "      <td>Zika Outbreak Hits Miami</td>\n",
              "      <td>Miami</td>\n",
              "      <td>Miami</td>\n",
              "      <td>25.77427</td>\n",
              "      <td>-80.19366</td>\n",
              "      <td>US</td>\n",
              "      <td>441003.0</td>\n",
              "    </tr>\n",
              "    <tr>\n",
              "      <th>1</th>\n",
              "      <td>1</td>\n",
              "      <td>Could Zika Reach New York City?</td>\n",
              "      <td>New York City</td>\n",
              "      <td>New York City</td>\n",
              "      <td>40.71427</td>\n",
              "      <td>-74.00597</td>\n",
              "      <td>US</td>\n",
              "      <td>8175133.0</td>\n",
              "    </tr>\n",
              "    <tr>\n",
              "      <th>2</th>\n",
              "      <td>2</td>\n",
              "      <td>First Case of Zika in Miami Beach</td>\n",
              "      <td>Miami Beach</td>\n",
              "      <td>Miami Beach</td>\n",
              "      <td>25.79065</td>\n",
              "      <td>-80.13005</td>\n",
              "      <td>US</td>\n",
              "      <td>92312.0</td>\n",
              "    </tr>\n",
              "    <tr>\n",
              "      <th>3</th>\n",
              "      <td>3</td>\n",
              "      <td>Mystery Virus Spreads in Recife, Brazil</td>\n",
              "      <td>Recife</td>\n",
              "      <td>Recife</td>\n",
              "      <td>-8.05389</td>\n",
              "      <td>-34.88111</td>\n",
              "      <td>BR</td>\n",
              "      <td>1478098.0</td>\n",
              "    </tr>\n",
              "    <tr>\n",
              "      <th>4</th>\n",
              "      <td>4</td>\n",
              "      <td>Dallas man comes down with case of Zika</td>\n",
              "      <td>Dallas</td>\n",
              "      <td>Dallas</td>\n",
              "      <td>32.78306</td>\n",
              "      <td>-96.80667</td>\n",
              "      <td>US</td>\n",
              "      <td>1300092.0</td>\n",
              "    </tr>\n",
              "  </tbody>\n",
              "</table>\n",
              "</div>"
            ],
            "text/plain": [
              "   Unnamed: 0                                 headline  ... countrycode        pop\n",
              "0           0                 Zika Outbreak Hits Miami  ...          US   441003.0\n",
              "1           1          Could Zika Reach New York City?  ...          US  8175133.0\n",
              "2           2        First Case of Zika in Miami Beach  ...          US    92312.0\n",
              "3           3  Mystery Virus Spreads in Recife, Brazil  ...          BR  1478098.0\n",
              "4           4  Dallas man comes down with case of Zika  ...          US  1300092.0\n",
              "\n",
              "[5 rows x 8 columns]"
            ]
          },
          "metadata": {
            "tags": []
          },
          "execution_count": 4
        }
      ]
    },
    {
      "cell_type": "code",
      "metadata": {
        "id": "rEq44PJj5NJA",
        "colab_type": "code",
        "colab": {}
      },
      "source": [
        "import numpy as np\n",
        "import numpy as np"
      ],
      "execution_count": 0,
      "outputs": []
    },
    {
      "cell_type": "code",
      "metadata": {
        "id": "QgqoZvuM5jbN",
        "colab_type": "code",
        "colab": {}
      },
      "source": [
        "from sklearn.cluster import KMeans"
      ],
      "execution_count": 0,
      "outputs": []
    },
    {
      "cell_type": "code",
      "metadata": {
        "id": "m9LVuFJP5wWD",
        "colab_type": "code",
        "colab": {
          "base_uri": "https://localhost:8080/",
          "height": 290
        },
        "outputId": "0d70bd0d-dec0-4daf-f626-3ab100b313b6"
      },
      "source": [
        "import matplotlib.pyplot as plt\n",
        "X=data.loc[:,['latitude','longitude']]\n",
        "#id_n=8\n",
        "k_values = range(1, 8)\n",
        "inertia_values = [KMeans(k).fit(X).inertia_\n",
        "                  for k in k_values]\n",
        "\n",
        "plt.plot(k_values, inertia_values)\n",
        "plt.xlabel('K')\n",
        "plt.ylabel('Inertia')\n",
        "plt.show()\n",
        "#kmeans = KMeans(n_clusters=id_n, random_state=0).fit(X)\n",
        "#id_label=kmeans.labels_"
      ],
      "execution_count": 10,
      "outputs": [
        {
          "output_type": "display_data",
          "data": {
            "image/png": "[encoded data removed]",
            "text/plain": [
              "<Figure size 432x288 with 1 Axes>"
            ]
          },
          "metadata": {
            "tags": [],
            "needs_background": "light"
          }
        }
      ]
    },
    {
      "cell_type": "code",
      "metadata": {
        "id": "fatc-BBG8H2x",
        "colab_type": "code",
        "colab": {
          "base_uri": "https://localhost:8080/",
          "height": 717
        },
        "outputId": "6f92f49f-2e84-4e0b-9760-e681ced9655f"
      },
      "source": [
        "id_n=4\n",
        "kmeans = KMeans(n_clusters=id_n, random_state=0).fit(X)\n",
        "id_label=kmeans.labels_\n",
        "import matplotlib.pyplot as plt\n",
        "#ptsymb = np.array(['b.','r.','m.','g.','c.','k.','b*','r*','m*','r^']);\n",
        "ptsymb = np.array(['b.','r.','m.','g.']);\n",
        "plt.figure(figsize=(12,12))\n",
        "plt.ylabel('Longitude', fontsize=12)\n",
        "plt.xlabel('Latitude', fontsize=12)\n",
        "for i in range(id_n):\n",
        "    cluster=np.where(id_label==i)[0]\n",
        "    plt.plot(X.latitude[cluster].values,X.longitude[cluster].values,ptsymb[i])\n",
        "plt.show()"
      ],
      "execution_count": 11,
      "outputs": [
        {
          "output_type": "display_data",
          "data": {
            "image/png": "[encoded data removed]",
            "text/plain": [
              "<Figure size 864x864 with 1 Axes>"
            ]
          },
          "metadata": {
            "tags": [],
            "needs_background": "light"
          }
        }
      ]
    },
    {
      "cell_type": "code",
      "metadata": {
        "id": "IZdyOCY5Ck0t",
        "colab_type": "code",
        "colab": {}
      },
      "source": [
        "labels = kmeans.predict(X)"
      ],
      "execution_count": 0,
      "outputs": []
    },
    {
      "cell_type": "code",
      "metadata": {
        "id": "v9yEuePKElGq",
        "colab_type": "code",
        "colab": {
          "base_uri": "https://localhost:8080/",
          "height": 34
        },
        "outputId": "4901a782-c993-4e36-d103-ed9824cf9a96"
      },
      "source": [
        "labels[0]"
      ],
      "execution_count": 13,
      "outputs": [
        {
          "output_type": "execute_result",
          "data": {
            "text/plain": [
              "3"
            ]
          },
          "metadata": {
            "tags": []
          },
          "execution_count": 13
        }
      ]
    },
    {
      "cell_type": "code",
      "metadata": {
        "id": "aOnHM8L6fQ6E",
        "colab_type": "code",
        "colab": {}
      },
      "source": [
        "data[\"cluster\"] = labels"
      ],
      "execution_count": 0,
      "outputs": []
    },
    {
      "cell_type": "code",
      "metadata": {
        "id": "tgS0EmKsfdOP",
        "colab_type": "code",
        "colab": {
          "base_uri": "https://localhost:8080/",
          "height": 204
        },
        "outputId": "68f13843-2be7-46b4-fd42-ee2ea9b91a38"
      },
      "source": [
        "data.head()"
      ],
      "execution_count": 55,
      "outputs": [
        {
          "output_type": "execute_result",
          "data": {
            "text/html": [
              "<div>\n",
              "<style scoped>\n",
              "    .dataframe tbody tr th:only-of-type {\n",
              "        vertical-align: middle;\n",
              "    }\n",
              "\n",
              "    .dataframe tbody tr th {\n",
              "        vertical-align: top;\n",
              "    }\n",
              "\n",
              "    .dataframe thead th {\n",
              "        text-align: right;\n",
              "    }\n",
              "</style>\n",
              "<table border=\"1\" class=\"dataframe\">\n",
              "  <thead>\n",
              "    <tr style=\"text-align: right;\">\n",
              "      <th></th>\n",
              "      <th>Unnamed: 0</th>\n",
              "      <th>headline</th>\n",
              "      <th>city</th>\n",
              "      <th>accented_city</th>\n",
              "      <th>latitude</th>\n",
              "      <th>longitude</th>\n",
              "      <th>countrycode</th>\n",
              "      <th>pop</th>\n",
              "      <th>cluster</th>\n",
              "    </tr>\n",
              "  </thead>\n",
              "  <tbody>\n",
              "    <tr>\n",
              "      <th>0</th>\n",
              "      <td>0</td>\n",
              "      <td>Zika Outbreak Hits Miami</td>\n",
              "      <td>Miami</td>\n",
              "      <td>Miami</td>\n",
              "      <td>25.77427</td>\n",
              "      <td>-80.19366</td>\n",
              "      <td>US</td>\n",
              "      <td>441003.0</td>\n",
              "      <td>3</td>\n",
              "    </tr>\n",
              "    <tr>\n",
              "      <th>1</th>\n",
              "      <td>1</td>\n",
              "      <td>Could Zika Reach New York City?</td>\n",
              "      <td>New York City</td>\n",
              "      <td>New York City</td>\n",
              "      <td>40.71427</td>\n",
              "      <td>-74.00597</td>\n",
              "      <td>US</td>\n",
              "      <td>8175133.0</td>\n",
              "      <td>3</td>\n",
              "    </tr>\n",
              "    <tr>\n",
              "      <th>2</th>\n",
              "      <td>2</td>\n",
              "      <td>First Case of Zika in Miami Beach</td>\n",
              "      <td>Miami Beach</td>\n",
              "      <td>Miami Beach</td>\n",
              "      <td>25.79065</td>\n",
              "      <td>-80.13005</td>\n",
              "      <td>US</td>\n",
              "      <td>92312.0</td>\n",
              "      <td>3</td>\n",
              "    </tr>\n",
              "    <tr>\n",
              "      <th>3</th>\n",
              "      <td>3</td>\n",
              "      <td>Mystery Virus Spreads in Recife, Brazil</td>\n",
              "      <td>Recife</td>\n",
              "      <td>Recife</td>\n",
              "      <td>-8.05389</td>\n",
              "      <td>-34.88111</td>\n",
              "      <td>BR</td>\n",
              "      <td>1478098.0</td>\n",
              "      <td>1</td>\n",
              "    </tr>\n",
              "    <tr>\n",
              "      <th>4</th>\n",
              "      <td>4</td>\n",
              "      <td>Dallas man comes down with case of Zika</td>\n",
              "      <td>Dallas</td>\n",
              "      <td>Dallas</td>\n",
              "      <td>32.78306</td>\n",
              "      <td>-96.80667</td>\n",
              "      <td>US</td>\n",
              "      <td>1300092.0</td>\n",
              "      <td>3</td>\n",
              "    </tr>\n",
              "  </tbody>\n",
              "</table>\n",
              "</div>"
            ],
            "text/plain": [
              "   Unnamed: 0                                 headline  ...        pop cluster\n",
              "0           0                 Zika Outbreak Hits Miami  ...   441003.0       3\n",
              "1           1          Could Zika Reach New York City?  ...  8175133.0       3\n",
              "2           2        First Case of Zika in Miami Beach  ...    92312.0       3\n",
              "3           3  Mystery Virus Spreads in Recife, Brazil  ...  1478098.0       1\n",
              "4           4  Dallas man comes down with case of Zika  ...  1300092.0       3\n",
              "\n",
              "[5 rows x 9 columns]"
            ]
          },
          "metadata": {
            "tags": []
          },
          "execution_count": 55
        }
      ]
    }
  ]
}
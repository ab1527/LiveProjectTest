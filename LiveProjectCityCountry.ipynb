{
  "nbformat": 4,
  "nbformat_minor": 0,
  "metadata": {
    "colab": {
      "name": "LiveProjectCityCountry.ipynb",
      "provenance": []
    },
    "kernelspec": {
      "name": "python3",
      "display_name": "Python 3"
    }
  },
  "cells": [
    {
      "cell_type": "code",
      "metadata": {
        "id": "SMmLDprvm0pe",
        "colab_type": "code",
        "outputId": "923fde19-65eb-4d0f-f071-e6e5293ab6b8",
        "colab": {
          "base_uri": "https://localhost:8080/",
          "height": 122
        }
      },
      "source": [
        "from google.colab import drive\n",
        "drive.mount('/content/gdrive')"
      ],
      "execution_count": 0,
      "outputs": [
        {
          "output_type": "stream",
          "text": [
            "Go to this URL in a browser: https://accounts.google.com/o/oauth2/auth?client_id=947318989803-6bn6qk8qdgf4n4g3pfee6491hc0brc4i.apps.googleusercontent.com&redirect_uri=urn%3aietf%3awg%3aoauth%3a2.0%3aoob&response_type=code&scope=email%20https%3a%2f%2fwww.googleapis.com%2fauth%2fdocs.test%20https%3a%2f%2fwww.googleapis.com%2fauth%2fdrive%20https%3a%2f%2fwww.googleapis.com%2fauth%2fdrive.photos.readonly%20https%3a%2f%2fwww.googleapis.com%2fauth%2fpeopleapi.readonly\n",
            "\n",
            "Enter your authorization code:\n",
            "··········\n",
            "Mounted at /content/gdrive\n"
          ],
          "name": "stdout"
        }
      ]
    },
    {
      "cell_type": "code",
      "metadata": {
        "id": "APBBECpQ9ttm",
        "colab_type": "code",
        "colab": {}
      },
      "source": [
        "root_path = '/content/gdrive/My Drive/Colab Notebooks'\n",
        "import os\n",
        "fname = os.path.join(root_path, 'headlines.txt') \n",
        "with open(fname) as f:\n",
        "    lines = [line.rstrip() for line in f]"
      ],
      "execution_count": 0,
      "outputs": []
    },
    {
      "cell_type": "code",
      "metadata": {
        "id": "FsupOGk8-JAA",
        "colab_type": "code",
        "outputId": "7407371d-e52f-429f-d75c-3827f2f57cca",
        "colab": {
          "base_uri": "https://localhost:8080/",
          "height": 102
        }
      },
      "source": [
        "pip install geonamescache"
      ],
      "execution_count": 0,
      "outputs": [
        {
          "output_type": "stream",
          "text": [
            "Collecting geonamescache\n",
            "\u001b[?25l  Downloading https://files.pythonhosted.org/packages/32/c1/efb823270c8526b2f4f3eb8c804c5a0a55277267ad2312f5eb47bd9cc370/geonamescache-1.1.0-py3-none-any.whl (830kB)\n",
            "\u001b[K     |████████████████████████████████| 839kB 2.7MB/s \n",
            "\u001b[?25hInstalling collected packages: geonamescache\n",
            "Successfully installed geonamescache-1.1.0\n"
          ],
          "name": "stdout"
        }
      ]
    },
    {
      "cell_type": "code",
      "metadata": {
        "id": "FcA37eAi-Okn",
        "colab_type": "code",
        "outputId": "fe9e7c46-4c16-44c3-fd7a-5f5797b8e56b",
        "colab": {
          "base_uri": "https://localhost:8080/",
          "height": 102
        }
      },
      "source": [
        "pip install unidecode"
      ],
      "execution_count": 0,
      "outputs": [
        {
          "output_type": "stream",
          "text": [
            "Collecting unidecode\n",
            "\u001b[?25l  Downloading https://files.pythonhosted.org/packages/d0/42/d9edfed04228bacea2d824904cae367ee9efd05e6cce7ceaaedd0b0ad964/Unidecode-1.1.1-py2.py3-none-any.whl (238kB)\n",
            "\r\u001b[K     |█▍                              | 10kB 19.3MB/s eta 0:00:01\r\u001b[K     |██▊                             | 20kB 1.8MB/s eta 0:00:01\r\u001b[K     |████▏                           | 30kB 2.2MB/s eta 0:00:01\r\u001b[K     |█████▌                          | 40kB 2.5MB/s eta 0:00:01\r\u001b[K     |██████▉                         | 51kB 2.0MB/s eta 0:00:01\r\u001b[K     |████████▎                       | 61kB 2.3MB/s eta 0:00:01\r\u001b[K     |█████████▋                      | 71kB 2.5MB/s eta 0:00:01\r\u001b[K     |███████████                     | 81kB 2.8MB/s eta 0:00:01\r\u001b[K     |████████████▍                   | 92kB 2.9MB/s eta 0:00:01\r\u001b[K     |█████████████▊                  | 102kB 2.8MB/s eta 0:00:01\r\u001b[K     |███████████████▏                | 112kB 2.8MB/s eta 0:00:01\r\u001b[K     |████████████████▌               | 122kB 2.8MB/s eta 0:00:01\r\u001b[K     |█████████████████▉              | 133kB 2.8MB/s eta 0:00:01\r\u001b[K     |███████████████████▎            | 143kB 2.8MB/s eta 0:00:01\r\u001b[K     |████████████████████▋           | 153kB 2.8MB/s eta 0:00:01\r\u001b[K     |██████████████████████          | 163kB 2.8MB/s eta 0:00:01\r\u001b[K     |███████████████████████▍        | 174kB 2.8MB/s eta 0:00:01\r\u001b[K     |████████████████████████▊       | 184kB 2.8MB/s eta 0:00:01\r\u001b[K     |██████████████████████████▏     | 194kB 2.8MB/s eta 0:00:01\r\u001b[K     |███████████████████████████▌    | 204kB 2.8MB/s eta 0:00:01\r\u001b[K     |████████████████████████████▉   | 215kB 2.8MB/s eta 0:00:01\r\u001b[K     |██████████████████████████████▎ | 225kB 2.8MB/s eta 0:00:01\r\u001b[K     |███████████████████████████████▋| 235kB 2.8MB/s eta 0:00:01\r\u001b[K     |████████████████████████████████| 245kB 2.8MB/s \n",
            "\u001b[?25hInstalling collected packages: unidecode\n",
            "Successfully installed unidecode-1.1.1\n"
          ],
          "name": "stdout"
        }
      ]
    },
    {
      "cell_type": "code",
      "metadata": {
        "id": "35zNTZJl-SaA",
        "colab_type": "code",
        "colab": {}
      },
      "source": [
        "import geonamescache\n",
        "import unidecode"
      ],
      "execution_count": 0,
      "outputs": []
    },
    {
      "cell_type": "code",
      "metadata": {
        "id": "1-MbBUD8-ZUT",
        "colab_type": "code",
        "colab": {}
      },
      "source": [
        "lines_noaccent = []\n",
        "i = 0\n",
        "while i < len(lines):\n",
        "  lines_noaccent.append(unidecode.unidecode(lines[i]))\n",
        "  i += 1"
      ],
      "execution_count": 0,
      "outputs": []
    },
    {
      "cell_type": "code",
      "metadata": {
        "id": "wjivcgzP-a6B",
        "colab_type": "code",
        "outputId": "d1149303-7605-411a-e58b-1308112d32bc",
        "colab": {
          "base_uri": "https://localhost:8080/",
          "height": 88
        }
      },
      "source": [
        "gc = geonamescache.GeonamesCache()\n",
        "cities = gc.get_cities()\n",
        "num_cities = len(cities)\n",
        "print(f\"GeoNamesCache holds data for {num_cities} total cities\")\n",
        "city_id = list(cities.keys())[0]\n",
        "print(city_id)\n",
        "print(cities[city_id])"
      ],
      "execution_count": 0,
      "outputs": [
        {
          "output_type": "stream",
          "text": [
            "GeoNamesCache holds data for 24336 total cities\n",
            "3041563\n",
            "{'geonameid': 3041563, 'name': 'Andorra la Vella', 'latitude': 42.50779, 'longitude': 1.52109, 'countrycode': 'AD', 'population': 20430, 'timezone': 'Europe/Andorra', 'admin1code': '07'}\n"
          ],
          "name": "stdout"
        }
      ]
    },
    {
      "cell_type": "code",
      "metadata": {
        "id": "DCF7okMe-hCy",
        "colab_type": "code",
        "colab": {}
      },
      "source": [
        "import numpy as np\n",
        "import pandas as pd"
      ],
      "execution_count": 0,
      "outputs": []
    },
    {
      "cell_type": "code",
      "metadata": {
        "id": "_MOyt8Pd-nIK",
        "colab_type": "code",
        "colab": {}
      },
      "source": [
        "# set the columns\n",
        "data_columns = ['headline', 'city', 'country']\n",
        "\n",
        "# create an empty dataframe\n",
        "data_df = pd.DataFrame(columns = data_columns)"
      ],
      "execution_count": 0,
      "outputs": []
    },
    {
      "cell_type": "code",
      "metadata": {
        "id": "OOzP-ntN-qe8",
        "colab_type": "code",
        "colab": {}
      },
      "source": [
        "import re\n",
        "i = 0\n",
        "j = 0\n",
        "while i < len(cities):\n",
        "    city_id = list(cities.keys())[i]\n",
        "    city_name = cities[city_id]['name']\n",
        "    country_code = cities[city_id]['countrycode']\n",
        "    j=0\n",
        "    while j < len(lines_noaccent):\n",
        "      match = re.search(city_name, lines_noaccent[j])\n",
        "      if match is not None:\n",
        "        df_temp = pd.DataFrame([[lines_noaccent[j], city_name, country_code]],columns = data_columns)\n",
        "        df_temp\n",
        "        data_df = data_df.append(df_temp, ignore_index=True)\n",
        "      j += 1\n",
        "    i += 1"
      ],
      "execution_count": 0,
      "outputs": []
    },
    {
      "cell_type": "code",
      "metadata": {
        "id": "jLEyvPUk-6n9",
        "colab_type": "code",
        "outputId": "7beeab99-3387-45d6-8560-35113bdac61c",
        "colab": {
          "base_uri": "https://localhost:8080/",
          "height": 419
        }
      },
      "source": [
        "data_df"
      ],
      "execution_count": 0,
      "outputs": [
        {
          "output_type": "execute_result",
          "data": {
            "text/html": [
              "<div>\n",
              "<style scoped>\n",
              "    .dataframe tbody tr th:only-of-type {\n",
              "        vertical-align: middle;\n",
              "    }\n",
              "\n",
              "    .dataframe tbody tr th {\n",
              "        vertical-align: top;\n",
              "    }\n",
              "\n",
              "    .dataframe thead th {\n",
              "        text-align: right;\n",
              "    }\n",
              "</style>\n",
              "<table border=\"1\" class=\"dataframe\">\n",
              "  <thead>\n",
              "    <tr style=\"text-align: right;\">\n",
              "      <th></th>\n",
              "      <th>headline</th>\n",
              "      <th>city</th>\n",
              "      <th>country</th>\n",
              "    </tr>\n",
              "  </thead>\n",
              "  <tbody>\n",
              "    <tr>\n",
              "      <th>0</th>\n",
              "      <td>Authorities are Worried about the Spread of No...</td>\n",
              "      <td>Dubai</td>\n",
              "      <td>AE</td>\n",
              "    </tr>\n",
              "    <tr>\n",
              "      <th>1</th>\n",
              "      <td>West Nile Virus Symptoms Spread all over Yerevan</td>\n",
              "      <td>Yerevan</td>\n",
              "      <td>AM</td>\n",
              "    </tr>\n",
              "    <tr>\n",
              "      <th>2</th>\n",
              "      <td>Tuberculosis Hits Luanda</td>\n",
              "      <td>Luanda</td>\n",
              "      <td>AO</td>\n",
              "    </tr>\n",
              "    <tr>\n",
              "      <th>3</th>\n",
              "      <td>Outbreak of Zika in Santa Elena</td>\n",
              "      <td>Santa Elena</td>\n",
              "      <td>AR</td>\n",
              "    </tr>\n",
              "    <tr>\n",
              "      <th>4</th>\n",
              "      <td>Will Hepatitis B vaccine help La Paz?</td>\n",
              "      <td>La Paz</td>\n",
              "      <td>AR</td>\n",
              "    </tr>\n",
              "    <tr>\n",
              "      <th>...</th>\n",
              "      <td>...</td>\n",
              "      <td>...</td>\n",
              "      <td>...</td>\n",
              "    </tr>\n",
              "    <tr>\n",
              "      <th>1327</th>\n",
              "      <td>Hepatitis C Outbreak in Bethlehem</td>\n",
              "      <td>Bethlehem</td>\n",
              "      <td>ZA</td>\n",
              "    </tr>\n",
              "    <tr>\n",
              "      <th>1328</th>\n",
              "      <td>West Nile Virus re-emerges in Wellington</td>\n",
              "      <td>Wellington</td>\n",
              "      <td>ZA</td>\n",
              "    </tr>\n",
              "    <tr>\n",
              "      <th>1329</th>\n",
              "      <td>Mpika authorities confirmed the spread of Chik...</td>\n",
              "      <td>Mpika</td>\n",
              "      <td>ZM</td>\n",
              "    </tr>\n",
              "    <tr>\n",
              "      <th>1330</th>\n",
              "      <td>More people in Kitwe are infected with Respira...</td>\n",
              "      <td>Kitwe</td>\n",
              "      <td>ZM</td>\n",
              "    </tr>\n",
              "    <tr>\n",
              "      <th>1331</th>\n",
              "      <td>Harare is infested with Pneumonia</td>\n",
              "      <td>Harare</td>\n",
              "      <td>ZW</td>\n",
              "    </tr>\n",
              "  </tbody>\n",
              "</table>\n",
              "<p>1332 rows × 3 columns</p>\n",
              "</div>"
            ],
            "text/plain": [
              "                                               headline         city country\n",
              "0     Authorities are Worried about the Spread of No...        Dubai      AE\n",
              "1      West Nile Virus Symptoms Spread all over Yerevan      Yerevan      AM\n",
              "2                              Tuberculosis Hits Luanda       Luanda      AO\n",
              "3                       Outbreak of Zika in Santa Elena  Santa Elena      AR\n",
              "4                 Will Hepatitis B vaccine help La Paz?       La Paz      AR\n",
              "...                                                 ...          ...     ...\n",
              "1327                  Hepatitis C Outbreak in Bethlehem    Bethlehem      ZA\n",
              "1328           West Nile Virus re-emerges in Wellington   Wellington      ZA\n",
              "1329  Mpika authorities confirmed the spread of Chik...        Mpika      ZM\n",
              "1330  More people in Kitwe are infected with Respira...        Kitwe      ZM\n",
              "1331                  Harare is infested with Pneumonia       Harare      ZW\n",
              "\n",
              "[1332 rows x 3 columns]"
            ]
          },
          "metadata": {
            "tags": []
          },
          "execution_count": 11
        }
      ]
    },
    {
      "cell_type": "code",
      "metadata": {
        "id": "WwrMz__PBE2B",
        "colab_type": "code",
        "colab": {}
      },
      "source": [
        ""
      ],
      "execution_count": 0,
      "outputs": []
    }
  ]
}